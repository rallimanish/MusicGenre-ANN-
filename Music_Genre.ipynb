{
  "nbformat": 4,
  "nbformat_minor": 0,
  "metadata": {
    "colab": {
      "name": "Music Genre",
      "version": "0.3.2",
      "provenance": [],
      "collapsed_sections": []
    },
    "kernelspec": {
      "name": "python3",
      "display_name": "Python 3"
    },
    "accelerator": "TPU"
  },
  "cells": [
    {
      "cell_type": "code",
      "metadata": {
        "id": "GRRUhCdxRnDV",
        "colab_type": "code",
        "colab": {
          "base_uri": "https://localhost:8080/",
          "height": 122
        },
        "outputId": "a66d197d-8477-4af5-c95f-96e3f85130b3"
      },
      "source": [
        "from google.colab import drive\n",
        "drive.mount('/content/drive')"
      ],
      "execution_count": 2,
      "outputs": [
        {
          "output_type": "stream",
          "text": [
            "Go to this URL in a browser: https://accounts.google.com/o/oauth2/auth?client_id=947318989803-6bn6qk8qdgf4n4g3pfee6491hc0brc4i.apps.googleusercontent.com&redirect_uri=urn%3Aietf%3Awg%3Aoauth%3A2.0%3Aoob&scope=email%20https%3A%2F%2Fwww.googleapis.com%2Fauth%2Fdocs.test%20https%3A%2F%2Fwww.googleapis.com%2Fauth%2Fdrive%20https%3A%2F%2Fwww.googleapis.com%2Fauth%2Fdrive.photos.readonly%20https%3A%2F%2Fwww.googleapis.com%2Fauth%2Fpeopleapi.readonly&response_type=code\n",
            "\n",
            "Enter your authorization code:\n",
            "··········\n",
            "Mounted at /content/drive\n"
          ],
          "name": "stdout"
        }
      ]
    },
    {
      "cell_type": "code",
      "metadata": {
        "id": "_wJF6Ad2Ro8J",
        "colab_type": "code",
        "colab": {
          "base_uri": "https://localhost:8080/",
          "height": 34
        },
        "outputId": "fd90d6cb-2504-4fd7-9a32-072f6d5805db"
      },
      "source": [
        "cd /content/drive/My\\ Drive"
      ],
      "execution_count": 3,
      "outputs": [
        {
          "output_type": "stream",
          "text": [
            "/content/drive/My Drive\n"
          ],
          "name": "stdout"
        }
      ]
    },
    {
      "cell_type": "code",
      "metadata": {
        "id": "ThYAr77417rv",
        "colab_type": "code",
        "colab": {
          "base_uri": "https://localhost:8080/",
          "height": 34
        },
        "outputId": "0c7f4b02-878a-47e4-adf0-d04a032d06c8"
      },
      "source": [
        "import librosa\n",
        "import pandas as pd\n",
        "import numpy as np\n",
        "import matplotlib.pyplot as plt\n",
        "%matplotlib inline\n",
        "import os\n",
        "from PIL import Image\n",
        "import pathlib\n",
        "import csv\n",
        "\n",
        "# Preprocessing\n",
        "from sklearn.model_selection import train_test_split\n",
        "from sklearn.preprocessing import LabelEncoder, StandardScaler\n",
        "from sklearn.externals import joblib\n",
        "\n",
        "#Keras\n",
        "import keras\n",
        "\n",
        "import warnings\n",
        "warnings.filterwarnings('ignore')"
      ],
      "execution_count": 5,
      "outputs": [
        {
          "output_type": "stream",
          "text": [
            "Using TensorFlow backend.\n"
          ],
          "name": "stderr"
        }
      ]
    },
    {
      "cell_type": "markdown",
      "metadata": {
        "id": "kwmDeAOv3u8z",
        "colab_type": "text"
      },
      "source": [
        ""
      ]
    },
    {
      "cell_type": "markdown",
      "metadata": {
        "id": "BUWTVE6N30Bv",
        "colab_type": "text"
      },
      "source": [
        "**Extracting music and features**\n",
        "\n",
        "**Dataset**\n",
        "\n",
        "We use GTZAN genre collection dataset for classification.\n",
        "\n",
        "The dataset consists of 10 genres \n",
        "\n",
        "1.   Blues\n",
        "2.   Rock\n",
        "3.Classical\n",
        "4.Country\n",
        "5.Disco\n",
        "6.Hiphop\n",
        "7.Jazz\n",
        "8.Metal\n",
        "9.Pop\n",
        "10.Reggae\n",
        "\n",
        "Each genre contains 100 songs. Total dataset: 1000 songs"
      ]
    },
    {
      "cell_type": "code",
      "metadata": {
        "id": "tC74lJQk37AG",
        "colab_type": "code",
        "colab": {
          "base_uri": "https://localhost:8080/",
          "height": 34
        },
        "outputId": "1c6c9456-ab1f-4f18-dd4c-3a439cef1b11"
      },
      "source": [
        "cmap = plt.get_cmap('inferno')\n",
        "\n",
        "plt.figure(figsize=(10,10))\n",
        "genres = 'Blues Classical Country Disco Hiphop Jazz Metal Pop Reggae Rock'.split()\n",
        "for g in genres:\n",
        "    pathlib.Path(f'img_data/{g}').mkdir(parents=True, exist_ok=True)     \n",
        "    for filename in os.listdir(f'GTZAN/{g}'):\n",
        "        songname = f'GTZAN/{g}/{filename}'\n",
        "        y, sr = librosa.load(songname, mono=True, duration=5)\n",
        "        plt.specgram(y, NFFT=2048, Fs=2, Fc=0, noverlap=128, cmap=cmap, sides='default', mode='default', scale='dB');\n",
        "        plt.axis('off');\n",
        "        plt.savefig(f'img_data/{g}/{filename[:-3].replace(\".\", \"\")}.png')\n",
        "        plt.clf()"
      ],
      "execution_count": 6,
      "outputs": [
        {
          "output_type": "display_data",
          "data": {
            "text/plain": [
              "<Figure size 720x720 with 0 Axes>"
            ]
          },
          "metadata": {
            "tags": []
          }
        }
      ]
    },
    {
      "cell_type": "markdown",
      "metadata": {
        "id": "zVjHefsg-659",
        "colab_type": "text"
      },
      "source": [
        "All the audio files get converted into their respective spectrograms .We can now easily extract features from them\n",
        "\n",
        "**Extracting features from Spectrogram**\n",
        " \n",
        " We will extract\n",
        "\n",
        "Mel-frequency cepstral coefficients (MFCC)(20 in number)\n",
        "\n",
        "Spectral Centroid,\n",
        "\n",
        "Zero Crossing Rate\n",
        "\n",
        "Chroma Frequencies\n",
        "\n",
        "Spectral Roll-off."
      ]
    },
    {
      "cell_type": "code",
      "metadata": {
        "id": "jDmUfUFJ_EsW",
        "colab_type": "code",
        "colab": {}
      },
      "source": [
        "header = 'filename chroma_stft rmse spectral_centroid spectral_bandwidth rolloff zero_crossing_rate'\n",
        "for i in range(1, 21):\n",
        "    header += f' mfcc{i}'\n",
        "header += ' label'\n",
        "header = header.split()"
      ],
      "execution_count": 0,
      "outputs": []
    },
    {
      "cell_type": "code",
      "metadata": {
        "id": "K98glTwFE24Z",
        "colab_type": "code",
        "colab": {
          "base_uri": "https://localhost:8080/",
          "height": 493
        },
        "outputId": "97b3b3a2-e3ff-4d98-ed63-de2d82c40eef"
      },
      "source": [
        "header"
      ],
      "execution_count": 8,
      "outputs": [
        {
          "output_type": "execute_result",
          "data": {
            "text/plain": [
              "['filename',\n",
              " 'chroma_stft',\n",
              " 'rmse',\n",
              " 'spectral_centroid',\n",
              " 'spectral_bandwidth',\n",
              " 'rolloff',\n",
              " 'zero_crossing_rate',\n",
              " 'mfcc1',\n",
              " 'mfcc2',\n",
              " 'mfcc3',\n",
              " 'mfcc4',\n",
              " 'mfcc5',\n",
              " 'mfcc6',\n",
              " 'mfcc7',\n",
              " 'mfcc8',\n",
              " 'mfcc9',\n",
              " 'mfcc10',\n",
              " 'mfcc11',\n",
              " 'mfcc12',\n",
              " 'mfcc13',\n",
              " 'mfcc14',\n",
              " 'mfcc15',\n",
              " 'mfcc16',\n",
              " 'mfcc17',\n",
              " 'mfcc18',\n",
              " 'mfcc19',\n",
              " 'mfcc20',\n",
              " 'label']"
            ]
          },
          "metadata": {
            "tags": []
          },
          "execution_count": 8
        }
      ]
    },
    {
      "cell_type": "code",
      "metadata": {
        "id": "5kM1Nq3gE6M6",
        "colab_type": "code",
        "colab": {}
      },
      "source": [
        "#writing the data and coeficiwn into a csv file\n",
        "\n",
        "file = open('data.csv', 'w', newline='')\n",
        "with file:\n",
        "    writer = csv.writer(file)\n",
        "    writer.writerow(header)\n",
        "genres = 'Blues Classical Country Disco Hiphop Jazz Metal Pop Reggae Rock'.split()\n",
        "for g in genres:\n",
        "    for filename in os.listdir(f'GTZAN/{g}'):\n",
        "        songname = f'GTZAN/{g}/{filename}'\n",
        "        y, sr = librosa.load(songname, mono=True, duration=30)\n",
        "        chroma_stft = librosa.feature.chroma_stft(y=y, sr=sr)\n",
        "        spec_cent = librosa.feature.spectral_centroid(y=y, sr=sr)\n",
        "        spec_bw = librosa.feature.spectral_bandwidth(y=y, sr=sr)\n",
        "        rolloff = librosa.feature.spectral_rolloff(y=y, sr=sr)\n",
        "        zcr = librosa.feature.zero_crossing_rate(y)\n",
        "        mfcc = librosa.feature.mfcc(y=y, sr=sr)\n",
        "        rmse = librosa.feature.rmse(y=y)\n",
        "        to_append = f'{filename} {np.mean(chroma_stft)} {np.mean(rmse)} {np.mean(spec_cent)} {np.mean(spec_bw)} {np.mean(rolloff)} {np.mean(zcr)}'    \n",
        "        for e in mfcc:\n",
        "            to_append += f' {np.mean(e)}'\n",
        "        to_append += f' {g}'\n",
        "        file = open('data.csv', 'a', newline='')\n",
        "        with file:\n",
        "            writer = csv.writer(file)\n",
        "            writer.writerow(to_append.split())"
      ],
      "execution_count": 0,
      "outputs": []
    },
    {
      "cell_type": "code",
      "metadata": {
        "id": "UmOp25S9GjzU",
        "colab_type": "code",
        "colab": {}
      },
      "source": [
        ""
      ],
      "execution_count": 0,
      "outputs": []
    },
    {
      "cell_type": "markdown",
      "metadata": {
        "id": "L023Ivn2KSmm",
        "colab_type": "text"
      },
      "source": [
        "**Analysing data in pandas**"
      ]
    },
    {
      "cell_type": "code",
      "metadata": {
        "id": "Clxo1q2GKa04",
        "colab_type": "code",
        "colab": {
          "base_uri": "https://localhost:8080/",
          "height": 253
        },
        "outputId": "d38d4dda-d478-4d24-d3b9-b491c0d77788"
      },
      "source": [
        "data = pd.read_csv('data.csv')\n",
        "data.head()\n"
      ],
      "execution_count": 17,
      "outputs": [
        {
          "output_type": "execute_result",
          "data": {
            "text/html": [
              "<div>\n",
              "<style scoped>\n",
              "    .dataframe tbody tr th:only-of-type {\n",
              "        vertical-align: middle;\n",
              "    }\n",
              "\n",
              "    .dataframe tbody tr th {\n",
              "        vertical-align: top;\n",
              "    }\n",
              "\n",
              "    .dataframe thead th {\n",
              "        text-align: right;\n",
              "    }\n",
              "</style>\n",
              "<table border=\"1\" class=\"dataframe\">\n",
              "  <thead>\n",
              "    <tr style=\"text-align: right;\">\n",
              "      <th></th>\n",
              "      <th>filename</th>\n",
              "      <th>chroma_stft</th>\n",
              "      <th>rmse</th>\n",
              "      <th>spectral_centroid</th>\n",
              "      <th>spectral_bandwidth</th>\n",
              "      <th>rolloff</th>\n",
              "      <th>zero_crossing_rate</th>\n",
              "      <th>mfcc1</th>\n",
              "      <th>mfcc2</th>\n",
              "      <th>mfcc3</th>\n",
              "      <th>...</th>\n",
              "      <th>mfcc12</th>\n",
              "      <th>mfcc13</th>\n",
              "      <th>mfcc14</th>\n",
              "      <th>mfcc15</th>\n",
              "      <th>mfcc16</th>\n",
              "      <th>mfcc17</th>\n",
              "      <th>mfcc18</th>\n",
              "      <th>mfcc19</th>\n",
              "      <th>mfcc20</th>\n",
              "      <th>label</th>\n",
              "    </tr>\n",
              "  </thead>\n",
              "  <tbody>\n",
              "    <tr>\n",
              "      <th>Blues</th>\n",
              "      <td>blues.00086.wav</td>\n",
              "      <td>0.365865</td>\n",
              "      <td>0.124991</td>\n",
              "      <td>1245.609395</td>\n",
              "      <td>1634.415029</td>\n",
              "      <td>2517.684776</td>\n",
              "      <td>0.048827</td>\n",
              "      <td>-212.790368</td>\n",
              "      <td>139.057366</td>\n",
              "      <td>9.459221</td>\n",
              "      <td>...</td>\n",
              "      <td>2.640718</td>\n",
              "      <td>-1.025016</td>\n",
              "      <td>-1.406932</td>\n",
              "      <td>-4.704802</td>\n",
              "      <td>1.138613</td>\n",
              "      <td>-9.472101</td>\n",
              "      <td>-2.187314</td>\n",
              "      <td>-4.100537</td>\n",
              "      <td>-3.352784</td>\n",
              "      <td>Blues</td>\n",
              "    </tr>\n",
              "    <tr>\n",
              "      <th>Blues</th>\n",
              "      <td>blues.00092.wav</td>\n",
              "      <td>0.391010</td>\n",
              "      <td>0.063085</td>\n",
              "      <td>918.405453</td>\n",
              "      <td>1437.609189</td>\n",
              "      <td>1599.673660</td>\n",
              "      <td>0.032318</td>\n",
              "      <td>-332.482336</td>\n",
              "      <td>128.042922</td>\n",
              "      <td>28.936692</td>\n",
              "      <td>...</td>\n",
              "      <td>-0.424217</td>\n",
              "      <td>1.495610</td>\n",
              "      <td>-1.555774</td>\n",
              "      <td>-0.837087</td>\n",
              "      <td>2.156455</td>\n",
              "      <td>-3.899823</td>\n",
              "      <td>-4.198857</td>\n",
              "      <td>-5.930102</td>\n",
              "      <td>-3.434429</td>\n",
              "      <td>Blues</td>\n",
              "    </tr>\n",
              "    <tr>\n",
              "      <th>Blues</th>\n",
              "      <td>blues.00079.wav</td>\n",
              "      <td>0.421495</td>\n",
              "      <td>0.270870</td>\n",
              "      <td>2443.298208</td>\n",
              "      <td>2358.443293</td>\n",
              "      <td>5267.601481</td>\n",
              "      <td>0.124735</td>\n",
              "      <td>-3.528043</td>\n",
              "      <td>92.914318</td>\n",
              "      <td>-25.110401</td>\n",
              "      <td>...</td>\n",
              "      <td>14.742995</td>\n",
              "      <td>-15.600666</td>\n",
              "      <td>9.548172</td>\n",
              "      <td>-14.788735</td>\n",
              "      <td>2.067856</td>\n",
              "      <td>-13.821133</td>\n",
              "      <td>3.563616</td>\n",
              "      <td>-5.965995</td>\n",
              "      <td>-1.649998</td>\n",
              "      <td>Blues</td>\n",
              "    </tr>\n",
              "    <tr>\n",
              "      <th>Blues</th>\n",
              "      <td>blues.00045.wav</td>\n",
              "      <td>0.429511</td>\n",
              "      <td>0.148366</td>\n",
              "      <td>1739.019621</td>\n",
              "      <td>2290.401739</td>\n",
              "      <td>4551.155813</td>\n",
              "      <td>0.048052</td>\n",
              "      <td>-163.211141</td>\n",
              "      <td>89.791041</td>\n",
              "      <td>12.979256</td>\n",
              "      <td>...</td>\n",
              "      <td>6.008639</td>\n",
              "      <td>-2.910059</td>\n",
              "      <td>-0.434613</td>\n",
              "      <td>-17.545474</td>\n",
              "      <td>4.154533</td>\n",
              "      <td>-5.990226</td>\n",
              "      <td>-7.860423</td>\n",
              "      <td>-8.565096</td>\n",
              "      <td>1.857711</td>\n",
              "      <td>Blues</td>\n",
              "    </tr>\n",
              "    <tr>\n",
              "      <th>Blues</th>\n",
              "      <td>blues.00051.wav</td>\n",
              "      <td>0.393756</td>\n",
              "      <td>0.196723</td>\n",
              "      <td>1977.172377</td>\n",
              "      <td>1927.803692</td>\n",
              "      <td>3942.834492</td>\n",
              "      <td>0.106627</td>\n",
              "      <td>-55.579243</td>\n",
              "      <td>114.935848</td>\n",
              "      <td>-37.052831</td>\n",
              "      <td>...</td>\n",
              "      <td>12.782317</td>\n",
              "      <td>-16.528681</td>\n",
              "      <td>3.793788</td>\n",
              "      <td>-7.890870</td>\n",
              "      <td>8.477609</td>\n",
              "      <td>-4.065210</td>\n",
              "      <td>3.207441</td>\n",
              "      <td>-5.178250</td>\n",
              "      <td>-1.279524</td>\n",
              "      <td>Blues</td>\n",
              "    </tr>\n",
              "  </tbody>\n",
              "</table>\n",
              "<p>5 rows × 28 columns</p>\n",
              "</div>"
            ],
            "text/plain": [
              "              filename  chroma_stft      rmse  spectral_centroid  \\\n",
              "Blues  blues.00086.wav     0.365865  0.124991        1245.609395   \n",
              "Blues  blues.00092.wav     0.391010  0.063085         918.405453   \n",
              "Blues  blues.00079.wav     0.421495  0.270870        2443.298208   \n",
              "Blues  blues.00045.wav     0.429511  0.148366        1739.019621   \n",
              "Blues  blues.00051.wav     0.393756  0.196723        1977.172377   \n",
              "\n",
              "       spectral_bandwidth      rolloff  zero_crossing_rate       mfcc1  \\\n",
              "Blues         1634.415029  2517.684776            0.048827 -212.790368   \n",
              "Blues         1437.609189  1599.673660            0.032318 -332.482336   \n",
              "Blues         2358.443293  5267.601481            0.124735   -3.528043   \n",
              "Blues         2290.401739  4551.155813            0.048052 -163.211141   \n",
              "Blues         1927.803692  3942.834492            0.106627  -55.579243   \n",
              "\n",
              "            mfcc2      mfcc3  ...     mfcc12     mfcc13    mfcc14     mfcc15  \\\n",
              "Blues  139.057366   9.459221  ...   2.640718  -1.025016 -1.406932  -4.704802   \n",
              "Blues  128.042922  28.936692  ...  -0.424217   1.495610 -1.555774  -0.837087   \n",
              "Blues   92.914318 -25.110401  ...  14.742995 -15.600666  9.548172 -14.788735   \n",
              "Blues   89.791041  12.979256  ...   6.008639  -2.910059 -0.434613 -17.545474   \n",
              "Blues  114.935848 -37.052831  ...  12.782317 -16.528681  3.793788  -7.890870   \n",
              "\n",
              "         mfcc16     mfcc17    mfcc18    mfcc19    mfcc20  label  \n",
              "Blues  1.138613  -9.472101 -2.187314 -4.100537 -3.352784  Blues  \n",
              "Blues  2.156455  -3.899823 -4.198857 -5.930102 -3.434429  Blues  \n",
              "Blues  2.067856 -13.821133  3.563616 -5.965995 -1.649998  Blues  \n",
              "Blues  4.154533  -5.990226 -7.860423 -8.565096  1.857711  Blues  \n",
              "Blues  8.477609  -4.065210  3.207441 -5.178250 -1.279524  Blues  \n",
              "\n",
              "[5 rows x 28 columns]"
            ]
          },
          "metadata": {
            "tags": []
          },
          "execution_count": 17
        }
      ]
    },
    {
      "cell_type": "code",
      "metadata": {
        "id": "QZHxMu8OKlaY",
        "colab_type": "code",
        "colab": {
          "base_uri": "https://localhost:8080/",
          "height": 34
        },
        "outputId": "d587cff4-a57f-4c78-afbb-813c4785a060"
      },
      "source": [
        "data.shape"
      ],
      "execution_count": 18,
      "outputs": [
        {
          "output_type": "execute_result",
          "data": {
            "text/plain": [
              "(1000, 28)"
            ]
          },
          "metadata": {
            "tags": []
          },
          "execution_count": 18
        }
      ]
    },
    {
      "cell_type": "code",
      "metadata": {
        "id": "Ujm2O8vcKql3",
        "colab_type": "code",
        "colab": {}
      },
      "source": [
        "# Dropping unneccesary columns\n",
        "#data = data.drop(['filename'],axis=1)"
      ],
      "execution_count": 0,
      "outputs": []
    },
    {
      "cell_type": "code",
      "metadata": {
        "id": "uEJic9RwK1uS",
        "colab_type": "code",
        "colab": {
          "base_uri": "https://localhost:8080/",
          "height": 253
        },
        "outputId": "376418ac-3519-4481-936c-59d79907a145"
      },
      "source": [
        "data.head()"
      ],
      "execution_count": 23,
      "outputs": [
        {
          "output_type": "execute_result",
          "data": {
            "text/html": [
              "<div>\n",
              "<style scoped>\n",
              "    .dataframe tbody tr th:only-of-type {\n",
              "        vertical-align: middle;\n",
              "    }\n",
              "\n",
              "    .dataframe tbody tr th {\n",
              "        vertical-align: top;\n",
              "    }\n",
              "\n",
              "    .dataframe thead th {\n",
              "        text-align: right;\n",
              "    }\n",
              "</style>\n",
              "<table border=\"1\" class=\"dataframe\">\n",
              "  <thead>\n",
              "    <tr style=\"text-align: right;\">\n",
              "      <th></th>\n",
              "      <th>chroma_stft</th>\n",
              "      <th>rmse</th>\n",
              "      <th>spectral_centroid</th>\n",
              "      <th>spectral_bandwidth</th>\n",
              "      <th>rolloff</th>\n",
              "      <th>zero_crossing_rate</th>\n",
              "      <th>mfcc1</th>\n",
              "      <th>mfcc2</th>\n",
              "      <th>mfcc3</th>\n",
              "      <th>mfcc4</th>\n",
              "      <th>...</th>\n",
              "      <th>mfcc12</th>\n",
              "      <th>mfcc13</th>\n",
              "      <th>mfcc14</th>\n",
              "      <th>mfcc15</th>\n",
              "      <th>mfcc16</th>\n",
              "      <th>mfcc17</th>\n",
              "      <th>mfcc18</th>\n",
              "      <th>mfcc19</th>\n",
              "      <th>mfcc20</th>\n",
              "      <th>label</th>\n",
              "    </tr>\n",
              "  </thead>\n",
              "  <tbody>\n",
              "    <tr>\n",
              "      <th>Blues</th>\n",
              "      <td>0.365865</td>\n",
              "      <td>0.124991</td>\n",
              "      <td>1245.609395</td>\n",
              "      <td>1634.415029</td>\n",
              "      <td>2517.684776</td>\n",
              "      <td>0.048827</td>\n",
              "      <td>-212.790368</td>\n",
              "      <td>139.057366</td>\n",
              "      <td>9.459221</td>\n",
              "      <td>35.441294</td>\n",
              "      <td>...</td>\n",
              "      <td>2.640718</td>\n",
              "      <td>-1.025016</td>\n",
              "      <td>-1.406932</td>\n",
              "      <td>-4.704802</td>\n",
              "      <td>1.138613</td>\n",
              "      <td>-9.472101</td>\n",
              "      <td>-2.187314</td>\n",
              "      <td>-4.100537</td>\n",
              "      <td>-3.352784</td>\n",
              "      <td>Blues</td>\n",
              "    </tr>\n",
              "    <tr>\n",
              "      <th>Blues</th>\n",
              "      <td>0.391010</td>\n",
              "      <td>0.063085</td>\n",
              "      <td>918.405453</td>\n",
              "      <td>1437.609189</td>\n",
              "      <td>1599.673660</td>\n",
              "      <td>0.032318</td>\n",
              "      <td>-332.482336</td>\n",
              "      <td>128.042922</td>\n",
              "      <td>28.936692</td>\n",
              "      <td>41.828353</td>\n",
              "      <td>...</td>\n",
              "      <td>-0.424217</td>\n",
              "      <td>1.495610</td>\n",
              "      <td>-1.555774</td>\n",
              "      <td>-0.837087</td>\n",
              "      <td>2.156455</td>\n",
              "      <td>-3.899823</td>\n",
              "      <td>-4.198857</td>\n",
              "      <td>-5.930102</td>\n",
              "      <td>-3.434429</td>\n",
              "      <td>Blues</td>\n",
              "    </tr>\n",
              "    <tr>\n",
              "      <th>Blues</th>\n",
              "      <td>0.421495</td>\n",
              "      <td>0.270870</td>\n",
              "      <td>2443.298208</td>\n",
              "      <td>2358.443293</td>\n",
              "      <td>5267.601481</td>\n",
              "      <td>0.124735</td>\n",
              "      <td>-3.528043</td>\n",
              "      <td>92.914318</td>\n",
              "      <td>-25.110401</td>\n",
              "      <td>45.177700</td>\n",
              "      <td>...</td>\n",
              "      <td>14.742995</td>\n",
              "      <td>-15.600666</td>\n",
              "      <td>9.548172</td>\n",
              "      <td>-14.788735</td>\n",
              "      <td>2.067856</td>\n",
              "      <td>-13.821133</td>\n",
              "      <td>3.563616</td>\n",
              "      <td>-5.965995</td>\n",
              "      <td>-1.649998</td>\n",
              "      <td>Blues</td>\n",
              "    </tr>\n",
              "    <tr>\n",
              "      <th>Blues</th>\n",
              "      <td>0.429511</td>\n",
              "      <td>0.148366</td>\n",
              "      <td>1739.019621</td>\n",
              "      <td>2290.401739</td>\n",
              "      <td>4551.155813</td>\n",
              "      <td>0.048052</td>\n",
              "      <td>-163.211141</td>\n",
              "      <td>89.791041</td>\n",
              "      <td>12.979256</td>\n",
              "      <td>80.691273</td>\n",
              "      <td>...</td>\n",
              "      <td>6.008639</td>\n",
              "      <td>-2.910059</td>\n",
              "      <td>-0.434613</td>\n",
              "      <td>-17.545474</td>\n",
              "      <td>4.154533</td>\n",
              "      <td>-5.990226</td>\n",
              "      <td>-7.860423</td>\n",
              "      <td>-8.565096</td>\n",
              "      <td>1.857711</td>\n",
              "      <td>Blues</td>\n",
              "    </tr>\n",
              "    <tr>\n",
              "      <th>Blues</th>\n",
              "      <td>0.393756</td>\n",
              "      <td>0.196723</td>\n",
              "      <td>1977.172377</td>\n",
              "      <td>1927.803692</td>\n",
              "      <td>3942.834492</td>\n",
              "      <td>0.106627</td>\n",
              "      <td>-55.579243</td>\n",
              "      <td>114.935848</td>\n",
              "      <td>-37.052831</td>\n",
              "      <td>64.896513</td>\n",
              "      <td>...</td>\n",
              "      <td>12.782317</td>\n",
              "      <td>-16.528681</td>\n",
              "      <td>3.793788</td>\n",
              "      <td>-7.890870</td>\n",
              "      <td>8.477609</td>\n",
              "      <td>-4.065210</td>\n",
              "      <td>3.207441</td>\n",
              "      <td>-5.178250</td>\n",
              "      <td>-1.279524</td>\n",
              "      <td>Blues</td>\n",
              "    </tr>\n",
              "  </tbody>\n",
              "</table>\n",
              "<p>5 rows × 27 columns</p>\n",
              "</div>"
            ],
            "text/plain": [
              "       chroma_stft      rmse  spectral_centroid  spectral_bandwidth  \\\n",
              "Blues     0.365865  0.124991        1245.609395         1634.415029   \n",
              "Blues     0.391010  0.063085         918.405453         1437.609189   \n",
              "Blues     0.421495  0.270870        2443.298208         2358.443293   \n",
              "Blues     0.429511  0.148366        1739.019621         2290.401739   \n",
              "Blues     0.393756  0.196723        1977.172377         1927.803692   \n",
              "\n",
              "           rolloff  zero_crossing_rate       mfcc1       mfcc2      mfcc3  \\\n",
              "Blues  2517.684776            0.048827 -212.790368  139.057366   9.459221   \n",
              "Blues  1599.673660            0.032318 -332.482336  128.042922  28.936692   \n",
              "Blues  5267.601481            0.124735   -3.528043   92.914318 -25.110401   \n",
              "Blues  4551.155813            0.048052 -163.211141   89.791041  12.979256   \n",
              "Blues  3942.834492            0.106627  -55.579243  114.935848 -37.052831   \n",
              "\n",
              "           mfcc4  ...     mfcc12     mfcc13    mfcc14     mfcc15    mfcc16  \\\n",
              "Blues  35.441294  ...   2.640718  -1.025016 -1.406932  -4.704802  1.138613   \n",
              "Blues  41.828353  ...  -0.424217   1.495610 -1.555774  -0.837087  2.156455   \n",
              "Blues  45.177700  ...  14.742995 -15.600666  9.548172 -14.788735  2.067856   \n",
              "Blues  80.691273  ...   6.008639  -2.910059 -0.434613 -17.545474  4.154533   \n",
              "Blues  64.896513  ...  12.782317 -16.528681  3.793788  -7.890870  8.477609   \n",
              "\n",
              "          mfcc17    mfcc18    mfcc19    mfcc20  label  \n",
              "Blues  -9.472101 -2.187314 -4.100537 -3.352784  Blues  \n",
              "Blues  -3.899823 -4.198857 -5.930102 -3.434429  Blues  \n",
              "Blues -13.821133  3.563616 -5.965995 -1.649998  Blues  \n",
              "Blues  -5.990226 -7.860423 -8.565096  1.857711  Blues  \n",
              "Blues  -4.065210  3.207441 -5.178250 -1.279524  Blues  \n",
              "\n",
              "[5 rows x 27 columns]"
            ]
          },
          "metadata": {
            "tags": []
          },
          "execution_count": 23
        }
      ]
    },
    {
      "cell_type": "code",
      "metadata": {
        "id": "0gw2q-pzLAll",
        "colab_type": "code",
        "colab": {}
      },
      "source": [
        ""
      ],
      "execution_count": 0,
      "outputs": []
    },
    {
      "cell_type": "markdown",
      "metadata": {
        "id": "s2NRgBO_LDc8",
        "colab_type": "text"
      },
      "source": [
        "**encoding labels**"
      ]
    },
    {
      "cell_type": "code",
      "metadata": {
        "id": "4OElWMi-LHRg",
        "colab_type": "code",
        "colab": {}
      },
      "source": [
        "genre_list = data.iloc[:, -1]\n",
        "encoder = LabelEncoder()\n",
        "y = encoder.fit_transform(genre_list)"
      ],
      "execution_count": 0,
      "outputs": []
    },
    {
      "cell_type": "code",
      "metadata": {
        "id": "AxOIVJT1La0s",
        "colab_type": "code",
        "colab": {
          "base_uri": "https://localhost:8080/",
          "height": 799
        },
        "outputId": "d277a567-de51-42c2-d34b-336cb6901674"
      },
      "source": [
        "y"
      ],
      "execution_count": 25,
      "outputs": [
        {
          "output_type": "execute_result",
          "data": {
            "text/plain": [
              "array([0, 0, 0, 0, 0, 0, 0, 0, 0, 0, 0, 0, 0, 0, 0, 0, 0, 0, 0, 0, 0, 0,\n",
              "       0, 0, 0, 0, 0, 0, 0, 0, 0, 0, 0, 0, 0, 0, 0, 0, 0, 0, 0, 0, 0, 0,\n",
              "       0, 0, 0, 0, 0, 0, 0, 0, 0, 0, 0, 0, 0, 0, 0, 0, 0, 0, 0, 0, 0, 0,\n",
              "       0, 0, 0, 0, 0, 0, 0, 0, 0, 0, 0, 0, 0, 0, 0, 0, 0, 0, 0, 0, 0, 0,\n",
              "       0, 0, 0, 0, 0, 0, 0, 0, 0, 0, 0, 0, 1, 1, 1, 1, 1, 1, 1, 1, 1, 1,\n",
              "       1, 1, 1, 1, 1, 1, 1, 1, 1, 1, 1, 1, 1, 1, 1, 1, 1, 1, 1, 1, 1, 1,\n",
              "       1, 1, 1, 1, 1, 1, 1, 1, 1, 1, 1, 1, 1, 1, 1, 1, 1, 1, 1, 1, 1, 1,\n",
              "       1, 1, 1, 1, 1, 1, 1, 1, 1, 1, 1, 1, 1, 1, 1, 1, 1, 1, 1, 1, 1, 1,\n",
              "       1, 1, 1, 1, 1, 1, 1, 1, 1, 1, 1, 1, 1, 1, 1, 1, 1, 1, 1, 1, 1, 1,\n",
              "       1, 1, 2, 2, 2, 2, 2, 2, 2, 2, 2, 2, 2, 2, 2, 2, 2, 2, 2, 2, 2, 2,\n",
              "       2, 2, 2, 2, 2, 2, 2, 2, 2, 2, 2, 2, 2, 2, 2, 2, 2, 2, 2, 2, 2, 2,\n",
              "       2, 2, 2, 2, 2, 2, 2, 2, 2, 2, 2, 2, 2, 2, 2, 2, 2, 2, 2, 2, 2, 2,\n",
              "       2, 2, 2, 2, 2, 2, 2, 2, 2, 2, 2, 2, 2, 2, 2, 2, 2, 2, 2, 2, 2, 2,\n",
              "       2, 2, 2, 2, 2, 2, 2, 2, 2, 2, 2, 2, 2, 2, 3, 3, 3, 3, 3, 3, 3, 3,\n",
              "       3, 3, 3, 3, 3, 3, 3, 3, 3, 3, 3, 3, 3, 3, 3, 3, 3, 3, 3, 3, 3, 3,\n",
              "       3, 3, 3, 3, 3, 3, 3, 3, 3, 3, 3, 3, 3, 3, 3, 3, 3, 3, 3, 3, 3, 3,\n",
              "       3, 3, 3, 3, 3, 3, 3, 3, 3, 3, 3, 3, 3, 3, 3, 3, 3, 3, 3, 3, 3, 3,\n",
              "       3, 3, 3, 3, 3, 3, 3, 3, 3, 3, 3, 3, 3, 3, 3, 3, 3, 3, 3, 3, 3, 3,\n",
              "       3, 3, 3, 3, 4, 4, 4, 4, 4, 4, 4, 4, 4, 4, 4, 4, 4, 4, 4, 4, 4, 4,\n",
              "       4, 4, 4, 4, 4, 4, 4, 4, 4, 4, 4, 4, 4, 4, 4, 4, 4, 4, 4, 4, 4, 4,\n",
              "       4, 4, 4, 4, 4, 4, 4, 4, 4, 4, 4, 4, 4, 4, 4, 4, 4, 4, 4, 4, 4, 4,\n",
              "       4, 4, 4, 4, 4, 4, 4, 4, 4, 4, 4, 4, 4, 4, 4, 4, 4, 4, 4, 4, 4, 4,\n",
              "       4, 4, 4, 4, 4, 4, 4, 4, 4, 4, 4, 4, 4, 4, 4, 4, 5, 5, 5, 5, 5, 5,\n",
              "       5, 5, 5, 5, 5, 5, 5, 5, 5, 5, 5, 5, 5, 5, 5, 5, 5, 5, 5, 5, 5, 5,\n",
              "       5, 5, 5, 5, 5, 5, 5, 5, 5, 5, 5, 5, 5, 5, 5, 5, 5, 5, 5, 5, 5, 5,\n",
              "       5, 5, 5, 5, 5, 5, 5, 5, 5, 5, 5, 5, 5, 5, 5, 5, 5, 5, 5, 5, 5, 5,\n",
              "       5, 5, 5, 5, 5, 5, 5, 5, 5, 5, 5, 5, 5, 5, 5, 5, 5, 5, 5, 5, 5, 5,\n",
              "       5, 5, 5, 5, 5, 5, 6, 6, 6, 6, 6, 6, 6, 6, 6, 6, 6, 6, 6, 6, 6, 6,\n",
              "       6, 6, 6, 6, 6, 6, 6, 6, 6, 6, 6, 6, 6, 6, 6, 6, 6, 6, 6, 6, 6, 6,\n",
              "       6, 6, 6, 6, 6, 6, 6, 6, 6, 6, 6, 6, 6, 6, 6, 6, 6, 6, 6, 6, 6, 6,\n",
              "       6, 6, 6, 6, 6, 6, 6, 6, 6, 6, 6, 6, 6, 6, 6, 6, 6, 6, 6, 6, 6, 6,\n",
              "       6, 6, 6, 6, 6, 6, 6, 6, 6, 6, 6, 6, 6, 6, 6, 6, 6, 6, 7, 7, 7, 7,\n",
              "       7, 7, 7, 7, 7, 7, 7, 7, 7, 7, 7, 7, 7, 7, 7, 7, 7, 7, 7, 7, 7, 7,\n",
              "       7, 7, 7, 7, 7, 7, 7, 7, 7, 7, 7, 7, 7, 7, 7, 7, 7, 7, 7, 7, 7, 7,\n",
              "       7, 7, 7, 7, 7, 7, 7, 7, 7, 7, 7, 7, 7, 7, 7, 7, 7, 7, 7, 7, 7, 7,\n",
              "       7, 7, 7, 7, 7, 7, 7, 7, 7, 7, 7, 7, 7, 7, 7, 7, 7, 7, 7, 7, 7, 7,\n",
              "       7, 7, 7, 7, 7, 7, 7, 7, 8, 8, 8, 8, 8, 8, 8, 8, 8, 8, 8, 8, 8, 8,\n",
              "       8, 8, 8, 8, 8, 8, 8, 8, 8, 8, 8, 8, 8, 8, 8, 8, 8, 8, 8, 8, 8, 8,\n",
              "       8, 8, 8, 8, 8, 8, 8, 8, 8, 8, 8, 8, 8, 8, 8, 8, 8, 8, 8, 8, 8, 8,\n",
              "       8, 8, 8, 8, 8, 8, 8, 8, 8, 8, 8, 8, 8, 8, 8, 8, 8, 8, 8, 8, 8, 8,\n",
              "       8, 8, 8, 8, 8, 8, 8, 8, 8, 8, 8, 8, 8, 8, 8, 8, 8, 8, 8, 8, 9, 9,\n",
              "       9, 9, 9, 9, 9, 9, 9, 9, 9, 9, 9, 9, 9, 9, 9, 9, 9, 9, 9, 9, 9, 9,\n",
              "       9, 9, 9, 9, 9, 9, 9, 9, 9, 9, 9, 9, 9, 9, 9, 9, 9, 9, 9, 9, 9, 9,\n",
              "       9, 9, 9, 9, 9, 9, 9, 9, 9, 9, 9, 9, 9, 9, 9, 9, 9, 9, 9, 9, 9, 9,\n",
              "       9, 9, 9, 9, 9, 9, 9, 9, 9, 9, 9, 9, 9, 9, 9, 9, 9, 9, 9, 9, 9, 9,\n",
              "       9, 9, 9, 9, 9, 9, 9, 9, 9, 9])"
            ]
          },
          "metadata": {
            "tags": []
          },
          "execution_count": 25
        }
      ]
    },
    {
      "cell_type": "code",
      "metadata": {
        "id": "AY0uXdUCLcGg",
        "colab_type": "code",
        "colab": {}
      },
      "source": [
        ""
      ],
      "execution_count": 0,
      "outputs": []
    },
    {
      "cell_type": "markdown",
      "metadata": {
        "id": "zUQEx2oSLlzk",
        "colab_type": "text"
      },
      "source": [
        "**Scaling the Feature columns**"
      ]
    },
    {
      "cell_type": "code",
      "metadata": {
        "id": "we7If8MALrlO",
        "colab_type": "code",
        "colab": {}
      },
      "source": [
        "#all data goes in range of -1 to 1\n",
        "scaler = StandardScaler()\n",
        "X = scaler.fit_transform(np.array(data.iloc[:, :-1], dtype = float))"
      ],
      "execution_count": 0,
      "outputs": []
    },
    {
      "cell_type": "code",
      "metadata": {
        "id": "7mv40kIiMGY5",
        "colab_type": "code",
        "colab": {
          "base_uri": "https://localhost:8080/",
          "height": 238
        },
        "outputId": "ff7567fe-cae9-49b4-e5b7-dbf5fec8bef4"
      },
      "source": [
        "X"
      ],
      "execution_count": 30,
      "outputs": [
        {
          "output_type": "execute_result",
          "data": {
            "text/plain": [
              "array([[-0.15678386, -0.09044175, -1.33624993, ..., -0.69679577,\n",
              "        -0.47200345, -0.58866528],\n",
              "       [ 0.15112013, -1.03338156, -1.79349203, ..., -1.216957  ,\n",
              "        -0.95940713, -0.60995113],\n",
              "       [ 0.52440978,  2.13155555,  0.33742716, ...,  0.79032646,\n",
              "        -0.96896914, -0.14472764],\n",
              "       ...,\n",
              "       [-0.43431617, -0.11431384, -0.92889577, ...,  0.1721994 ,\n",
              "         0.75116773, -1.23431979],\n",
              "       [-0.02312941,  1.10972212, -0.92177934, ..., -1.48705433,\n",
              "        -0.76994196, -1.35175137],\n",
              "       [ 0.78379404,  0.20460947,  0.49942812, ..., -1.12653082,\n",
              "        -1.01627317, -1.11563051]])"
            ]
          },
          "metadata": {
            "tags": []
          },
          "execution_count": 30
        }
      ]
    },
    {
      "cell_type": "code",
      "metadata": {
        "id": "z2bdLvmbMI9_",
        "colab_type": "code",
        "colab": {
          "base_uri": "https://localhost:8080/",
          "height": 253
        },
        "outputId": "ed30905a-1445-4f77-b88e-917f0ad32e02"
      },
      "source": [
        "pd.DataFrame(X, columns=data.columns[:-1]).head()"
      ],
      "execution_count": 31,
      "outputs": [
        {
          "output_type": "execute_result",
          "data": {
            "text/html": [
              "<div>\n",
              "<style scoped>\n",
              "    .dataframe tbody tr th:only-of-type {\n",
              "        vertical-align: middle;\n",
              "    }\n",
              "\n",
              "    .dataframe tbody tr th {\n",
              "        vertical-align: top;\n",
              "    }\n",
              "\n",
              "    .dataframe thead th {\n",
              "        text-align: right;\n",
              "    }\n",
              "</style>\n",
              "<table border=\"1\" class=\"dataframe\">\n",
              "  <thead>\n",
              "    <tr style=\"text-align: right;\">\n",
              "      <th></th>\n",
              "      <th>chroma_stft</th>\n",
              "      <th>rmse</th>\n",
              "      <th>spectral_centroid</th>\n",
              "      <th>spectral_bandwidth</th>\n",
              "      <th>rolloff</th>\n",
              "      <th>zero_crossing_rate</th>\n",
              "      <th>mfcc1</th>\n",
              "      <th>mfcc2</th>\n",
              "      <th>mfcc3</th>\n",
              "      <th>mfcc4</th>\n",
              "      <th>...</th>\n",
              "      <th>mfcc11</th>\n",
              "      <th>mfcc12</th>\n",
              "      <th>mfcc13</th>\n",
              "      <th>mfcc14</th>\n",
              "      <th>mfcc15</th>\n",
              "      <th>mfcc16</th>\n",
              "      <th>mfcc17</th>\n",
              "      <th>mfcc18</th>\n",
              "      <th>mfcc19</th>\n",
              "      <th>mfcc20</th>\n",
              "    </tr>\n",
              "  </thead>\n",
              "  <tbody>\n",
              "    <tr>\n",
              "      <th>0</th>\n",
              "      <td>-0.156784</td>\n",
              "      <td>-0.090442</td>\n",
              "      <td>-1.336250</td>\n",
              "      <td>-1.156005</td>\n",
              "      <td>-1.304981</td>\n",
              "      <td>-1.310835</td>\n",
              "      <td>-0.681847</td>\n",
              "      <td>1.261492</td>\n",
              "      <td>0.847677</td>\n",
              "      <td>-0.051131</td>\n",
              "      <td>...</td>\n",
              "      <td>0.907894</td>\n",
              "      <td>-0.272699</td>\n",
              "      <td>0.611595</td>\n",
              "      <td>-0.636806</td>\n",
              "      <td>-0.171291</td>\n",
              "      <td>-0.002048</td>\n",
              "      <td>-1.210250</td>\n",
              "      <td>-0.696796</td>\n",
              "      <td>-0.472003</td>\n",
              "      <td>-0.588665</td>\n",
              "    </tr>\n",
              "    <tr>\n",
              "      <th>1</th>\n",
              "      <td>0.151120</td>\n",
              "      <td>-1.033382</td>\n",
              "      <td>-1.793492</td>\n",
              "      <td>-1.530107</td>\n",
              "      <td>-1.888222</td>\n",
              "      <td>-1.705649</td>\n",
              "      <td>-1.876550</td>\n",
              "      <td>0.909775</td>\n",
              "      <td>1.745912</td>\n",
              "      <td>0.332277</td>\n",
              "      <td>...</td>\n",
              "      <td>0.757399</td>\n",
              "      <td>-0.729201</td>\n",
              "      <td>1.020268</td>\n",
              "      <td>-0.666533</td>\n",
              "      <td>0.622577</td>\n",
              "      <td>0.220342</td>\n",
              "      <td>0.014864</td>\n",
              "      <td>-1.216957</td>\n",
              "      <td>-0.959407</td>\n",
              "      <td>-0.609951</td>\n",
              "    </tr>\n",
              "    <tr>\n",
              "      <th>2</th>\n",
              "      <td>0.524410</td>\n",
              "      <td>2.131556</td>\n",
              "      <td>0.337427</td>\n",
              "      <td>0.220280</td>\n",
              "      <td>0.442126</td>\n",
              "      <td>0.504578</td>\n",
              "      <td>1.406901</td>\n",
              "      <td>-0.211963</td>\n",
              "      <td>-0.746556</td>\n",
              "      <td>0.533335</td>\n",
              "      <td>...</td>\n",
              "      <td>-1.302685</td>\n",
              "      <td>1.529858</td>\n",
              "      <td>-1.751577</td>\n",
              "      <td>1.551158</td>\n",
              "      <td>-2.241070</td>\n",
              "      <td>0.200984</td>\n",
              "      <td>-2.166423</td>\n",
              "      <td>0.790326</td>\n",
              "      <td>-0.968969</td>\n",
              "      <td>-0.144728</td>\n",
              "    </tr>\n",
              "    <tr>\n",
              "      <th>3</th>\n",
              "      <td>0.622571</td>\n",
              "      <td>0.265596</td>\n",
              "      <td>-0.646747</td>\n",
              "      <td>0.090942</td>\n",
              "      <td>-0.013054</td>\n",
              "      <td>-1.329363</td>\n",
              "      <td>-0.186973</td>\n",
              "      <td>-0.311696</td>\n",
              "      <td>1.010009</td>\n",
              "      <td>2.665174</td>\n",
              "      <td>...</td>\n",
              "      <td>-2.132052</td>\n",
              "      <td>0.228931</td>\n",
              "      <td>0.305970</td>\n",
              "      <td>-0.442614</td>\n",
              "      <td>-2.806904</td>\n",
              "      <td>0.656907</td>\n",
              "      <td>-0.444729</td>\n",
              "      <td>-2.163795</td>\n",
              "      <td>-1.661380</td>\n",
              "      <td>0.769776</td>\n",
              "    </tr>\n",
              "    <tr>\n",
              "      <th>4</th>\n",
              "      <td>0.184741</td>\n",
              "      <td>1.002162</td>\n",
              "      <td>-0.313947</td>\n",
              "      <td>-0.598311</td>\n",
              "      <td>-0.399539</td>\n",
              "      <td>0.071504</td>\n",
              "      <td>0.887353</td>\n",
              "      <td>0.491236</td>\n",
              "      <td>-1.297301</td>\n",
              "      <td>1.717033</td>\n",
              "      <td>...</td>\n",
              "      <td>0.055711</td>\n",
              "      <td>1.237827</td>\n",
              "      <td>-1.902038</td>\n",
              "      <td>0.401887</td>\n",
              "      <td>-0.825248</td>\n",
              "      <td>1.601466</td>\n",
              "      <td>-0.021498</td>\n",
              "      <td>0.698224</td>\n",
              "      <td>-0.759111</td>\n",
              "      <td>-0.048140</td>\n",
              "    </tr>\n",
              "  </tbody>\n",
              "</table>\n",
              "<p>5 rows × 26 columns</p>\n",
              "</div>"
            ],
            "text/plain": [
              "   chroma_stft      rmse  spectral_centroid  spectral_bandwidth   rolloff  \\\n",
              "0    -0.156784 -0.090442          -1.336250           -1.156005 -1.304981   \n",
              "1     0.151120 -1.033382          -1.793492           -1.530107 -1.888222   \n",
              "2     0.524410  2.131556           0.337427            0.220280  0.442126   \n",
              "3     0.622571  0.265596          -0.646747            0.090942 -0.013054   \n",
              "4     0.184741  1.002162          -0.313947           -0.598311 -0.399539   \n",
              "\n",
              "   zero_crossing_rate     mfcc1     mfcc2     mfcc3     mfcc4  ...    mfcc11  \\\n",
              "0           -1.310835 -0.681847  1.261492  0.847677 -0.051131  ...  0.907894   \n",
              "1           -1.705649 -1.876550  0.909775  1.745912  0.332277  ...  0.757399   \n",
              "2            0.504578  1.406901 -0.211963 -0.746556  0.533335  ... -1.302685   \n",
              "3           -1.329363 -0.186973 -0.311696  1.010009  2.665174  ... -2.132052   \n",
              "4            0.071504  0.887353  0.491236 -1.297301  1.717033  ...  0.055711   \n",
              "\n",
              "     mfcc12    mfcc13    mfcc14    mfcc15    mfcc16    mfcc17    mfcc18  \\\n",
              "0 -0.272699  0.611595 -0.636806 -0.171291 -0.002048 -1.210250 -0.696796   \n",
              "1 -0.729201  1.020268 -0.666533  0.622577  0.220342  0.014864 -1.216957   \n",
              "2  1.529858 -1.751577  1.551158 -2.241070  0.200984 -2.166423  0.790326   \n",
              "3  0.228931  0.305970 -0.442614 -2.806904  0.656907 -0.444729 -2.163795   \n",
              "4  1.237827 -1.902038  0.401887 -0.825248  1.601466 -0.021498  0.698224   \n",
              "\n",
              "     mfcc19    mfcc20  \n",
              "0 -0.472003 -0.588665  \n",
              "1 -0.959407 -0.609951  \n",
              "2 -0.968969 -0.144728  \n",
              "3 -1.661380  0.769776  \n",
              "4 -0.759111 -0.048140  \n",
              "\n",
              "[5 rows x 26 columns]"
            ]
          },
          "metadata": {
            "tags": []
          },
          "execution_count": 31
        }
      ]
    },
    {
      "cell_type": "code",
      "metadata": {
        "id": "9kYkZwAgMZq4",
        "colab_type": "code",
        "colab": {
          "base_uri": "https://localhost:8080/",
          "height": 34
        },
        "outputId": "c582ed34-779a-4948-f58f-9161c8af6d29"
      },
      "source": [
        "# Saving our Scalers and Encoders for testing purposes at real time\n",
        "\n",
        "from sklearn.externals import joblib\n",
        "\n",
        "encoder_filename = \"encoder.save\"\n",
        "joblib.dump(encoder, encoder_filename) \n",
        "\n",
        "scaler_filename = \"scaler.save\"\n",
        "joblib.dump(scaler, scaler_filename) "
      ],
      "execution_count": 32,
      "outputs": [
        {
          "output_type": "execute_result",
          "data": {
            "text/plain": [
              "['scaler.save']"
            ]
          },
          "metadata": {
            "tags": []
          },
          "execution_count": 32
        }
      ]
    },
    {
      "cell_type": "code",
      "metadata": {
        "id": "3V4_KiwfM_cB",
        "colab_type": "code",
        "colab": {}
      },
      "source": [
        ""
      ],
      "execution_count": 0,
      "outputs": []
    },
    {
      "cell_type": "markdown",
      "metadata": {
        "id": "L-iKtqBUNOi5",
        "colab_type": "text"
      },
      "source": [
        "**Dividing data into training and Testing set¶**\n"
      ]
    },
    {
      "cell_type": "code",
      "metadata": {
        "id": "w6FI-WUpNR6a",
        "colab_type": "code",
        "colab": {}
      },
      "source": [
        "X_train, X_test, y_train, y_test = train_test_split(X, y, test_size=0.2)"
      ],
      "execution_count": 0,
      "outputs": []
    },
    {
      "cell_type": "code",
      "metadata": {
        "id": "sE7OSYv8NV0M",
        "colab_type": "code",
        "colab": {
          "base_uri": "https://localhost:8080/",
          "height": 34
        },
        "outputId": "fd030fdf-0539-4683-ace7-0592b99d48b6"
      },
      "source": [
        "len(y_train)"
      ],
      "execution_count": 34,
      "outputs": [
        {
          "output_type": "execute_result",
          "data": {
            "text/plain": [
              "800"
            ]
          },
          "metadata": {
            "tags": []
          },
          "execution_count": 34
        }
      ]
    },
    {
      "cell_type": "code",
      "metadata": {
        "id": "gRYl80BKNcfj",
        "colab_type": "code",
        "colab": {
          "base_uri": "https://localhost:8080/",
          "height": 34
        },
        "outputId": "d759e33a-16fc-4b3a-b986-d1c0db514fc4"
      },
      "source": [
        "len(y_test)"
      ],
      "execution_count": 35,
      "outputs": [
        {
          "output_type": "execute_result",
          "data": {
            "text/plain": [
              "200"
            ]
          },
          "metadata": {
            "tags": []
          },
          "execution_count": 35
        }
      ]
    },
    {
      "cell_type": "code",
      "metadata": {
        "id": "IpKCiTiNNfce",
        "colab_type": "code",
        "colab": {
          "base_uri": "https://localhost:8080/",
          "height": 119
        },
        "outputId": "6e070db4-f67b-46b8-83af-dcb5e20f9bf9"
      },
      "source": [
        "X_train[10]"
      ],
      "execution_count": 36,
      "outputs": [
        {
          "output_type": "execute_result",
          "data": {
            "text/plain": [
              "array([ 0.6307393 ,  1.6916627 ,  0.2852088 ,  0.04990495,  0.26427191,\n",
              "        0.38492789,  1.16657802, -0.16562778, -0.53739424,  0.81461821,\n",
              "       -1.10913716,  0.77978586, -1.25449947,  1.33006392, -1.07196282,\n",
              "        1.09540901, -0.67450001,  1.40098144, -0.91934484,  1.27971622,\n",
              "       -1.32035743,  0.84443393, -0.38982525,  2.53567715,  1.59146321,\n",
              "        2.69304023])"
            ]
          },
          "metadata": {
            "tags": []
          },
          "execution_count": 36
        }
      ]
    },
    {
      "cell_type": "code",
      "metadata": {
        "id": "hjKKF1HyNj0D",
        "colab_type": "code",
        "colab": {
          "base_uri": "https://localhost:8080/",
          "height": 34
        },
        "outputId": "a8dc5c25-3c3a-489f-b157-0ed3c3de84e5"
      },
      "source": [
        "X_train.shape[1]"
      ],
      "execution_count": 37,
      "outputs": [
        {
          "output_type": "execute_result",
          "data": {
            "text/plain": [
              "26"
            ]
          },
          "metadata": {
            "tags": []
          },
          "execution_count": 37
        }
      ]
    },
    {
      "cell_type": "markdown",
      "metadata": {
        "id": "aAlWvDsfNuLl",
        "colab_type": "text"
      },
      "source": [
        "**Building our Network**"
      ]
    },
    {
      "cell_type": "code",
      "metadata": {
        "id": "sWn0MobsNwyp",
        "colab_type": "code",
        "colab": {
          "base_uri": "https://localhost:8080/",
          "height": 88
        },
        "outputId": "b879cbf2-819f-4d2e-a736-137934942b17"
      },
      "source": [
        "from keras import models\n",
        "from keras import layers\n",
        "\n",
        "model = models.Sequential()\n",
        "model.add(layers.Dense(256, activation='relu', input_shape=(X_train.shape[1],)))\n",
        "\n",
        "\n",
        "model.add(layers.Dense(128, activation='relu'))\n",
        "\n",
        "model.add(layers.Dense(128, activation='relu'))\n",
        "\n",
        "model.add(layers.Dense(64, activation='relu'))\n",
        "\n",
        "model.add(layers.Dense(10, activation='softmax'))"
      ],
      "execution_count": 38,
      "outputs": [
        {
          "output_type": "stream",
          "text": [
            "WARNING:tensorflow:From /usr/local/lib/python3.6/dist-packages/tensorflow/python/framework/op_def_library.py:263: colocate_with (from tensorflow.python.framework.ops) is deprecated and will be removed in a future version.\n",
            "Instructions for updating:\n",
            "Colocations handled automatically by placer.\n"
          ],
          "name": "stdout"
        }
      ]
    },
    {
      "cell_type": "code",
      "metadata": {
        "id": "ZRvtfmX7OzsY",
        "colab_type": "code",
        "colab": {
          "base_uri": "https://localhost:8080/",
          "height": 306
        },
        "outputId": "a844e92e-9725-4969-b52f-202a62856e6b"
      },
      "source": [
        "model.summary()"
      ],
      "execution_count": 40,
      "outputs": [
        {
          "output_type": "stream",
          "text": [
            "_________________________________________________________________\n",
            "Layer (type)                 Output Shape              Param #   \n",
            "=================================================================\n",
            "dense_1 (Dense)              (None, 256)               6912      \n",
            "_________________________________________________________________\n",
            "dense_2 (Dense)              (None, 128)               32896     \n",
            "_________________________________________________________________\n",
            "dense_3 (Dense)              (None, 128)               16512     \n",
            "_________________________________________________________________\n",
            "dense_4 (Dense)              (None, 64)                8256      \n",
            "_________________________________________________________________\n",
            "dense_5 (Dense)              (None, 10)                650       \n",
            "=================================================================\n",
            "Total params: 65,226\n",
            "Trainable params: 65,226\n",
            "Non-trainable params: 0\n",
            "_________________________________________________________________\n"
          ],
          "name": "stdout"
        }
      ]
    },
    {
      "cell_type": "code",
      "metadata": {
        "id": "GdpD_JqOO4Uu",
        "colab_type": "code",
        "colab": {}
      },
      "source": [
        "model.compile(optimizer='adam',\n",
        "              loss='sparse_categorical_crossentropy',\n",
        "              metrics=['accuracy'])"
      ],
      "execution_count": 0,
      "outputs": []
    },
    {
      "cell_type": "code",
      "metadata": {
        "id": "C3NtbzxhPLhk",
        "colab_type": "code",
        "colab": {
          "base_uri": "https://localhost:8080/",
          "height": 955
        },
        "outputId": "67ca1cc6-f372-4b59-ccb1-86aece397310"
      },
      "source": [
        " model.fit(X_train,\n",
        "                    y_train,\n",
        "                    epochs=25,\n",
        "                    batch_size=128)"
      ],
      "execution_count": 42,
      "outputs": [
        {
          "output_type": "stream",
          "text": [
            "WARNING:tensorflow:From /usr/local/lib/python3.6/dist-packages/tensorflow/python/ops/math_ops.py:3066: to_int32 (from tensorflow.python.ops.math_ops) is deprecated and will be removed in a future version.\n",
            "Instructions for updating:\n",
            "Use tf.cast instead.\n",
            "Epoch 1/25\n",
            "800/800 [==============================] - 1s 921us/step - loss: 2.2202 - acc: 0.2375\n",
            "Epoch 2/25\n",
            "800/800 [==============================] - 0s 41us/step - loss: 1.9230 - acc: 0.3987\n",
            "Epoch 3/25\n",
            "800/800 [==============================] - 0s 39us/step - loss: 1.6406 - acc: 0.4025\n",
            "Epoch 4/25\n",
            "800/800 [==============================] - 0s 41us/step - loss: 1.4294 - acc: 0.5012\n",
            "Epoch 5/25\n",
            "800/800 [==============================] - 0s 41us/step - loss: 1.2622 - acc: 0.5413\n",
            "Epoch 6/25\n",
            "800/800 [==============================] - 0s 49us/step - loss: 1.1458 - acc: 0.6088\n",
            "Epoch 7/25\n",
            "800/800 [==============================] - 0s 52us/step - loss: 1.0678 - acc: 0.6212\n",
            "Epoch 8/25\n",
            "800/800 [==============================] - 0s 41us/step - loss: 0.9899 - acc: 0.6525\n",
            "Epoch 9/25\n",
            "800/800 [==============================] - 0s 40us/step - loss: 0.9304 - acc: 0.6638\n",
            "Epoch 10/25\n",
            "800/800 [==============================] - 0s 42us/step - loss: 0.8675 - acc: 0.6788\n",
            "Epoch 11/25\n",
            "800/800 [==============================] - 0s 41us/step - loss: 0.7884 - acc: 0.7250\n",
            "Epoch 12/25\n",
            "800/800 [==============================] - 0s 39us/step - loss: 0.7487 - acc: 0.7462\n",
            "Epoch 13/25\n",
            "800/800 [==============================] - 0s 42us/step - loss: 0.6979 - acc: 0.7800\n",
            "Epoch 14/25\n",
            "800/800 [==============================] - 0s 39us/step - loss: 0.6564 - acc: 0.7850\n",
            "Epoch 15/25\n",
            "800/800 [==============================] - 0s 42us/step - loss: 0.6105 - acc: 0.8150\n",
            "Epoch 16/25\n",
            "800/800 [==============================] - 0s 41us/step - loss: 0.5840 - acc: 0.8125\n",
            "Epoch 17/25\n",
            "800/800 [==============================] - 0s 44us/step - loss: 0.5320 - acc: 0.8400\n",
            "Epoch 18/25\n",
            "800/800 [==============================] - 0s 42us/step - loss: 0.5126 - acc: 0.8438\n",
            "Epoch 19/25\n",
            "800/800 [==============================] - 0s 43us/step - loss: 0.4762 - acc: 0.8475\n",
            "Epoch 20/25\n",
            "800/800 [==============================] - 0s 46us/step - loss: 0.4646 - acc: 0.8475\n",
            "Epoch 21/25\n",
            "800/800 [==============================] - 0s 43us/step - loss: 0.4477 - acc: 0.8488\n",
            "Epoch 22/25\n",
            "800/800 [==============================] - 0s 38us/step - loss: 0.4182 - acc: 0.8788\n",
            "Epoch 23/25\n",
            "800/800 [==============================] - 0s 40us/step - loss: 0.3784 - acc: 0.8938\n",
            "Epoch 24/25\n",
            "800/800 [==============================] - 0s 37us/step - loss: 0.3541 - acc: 0.9125\n",
            "Epoch 25/25\n",
            "800/800 [==============================] - 0s 36us/step - loss: 0.3396 - acc: 0.8987\n"
          ],
          "name": "stdout"
        },
        {
          "output_type": "execute_result",
          "data": {
            "text/plain": [
              "<keras.callbacks.History at 0x7f1f44a65898>"
            ]
          },
          "metadata": {
            "tags": []
          },
          "execution_count": 42
        }
      ]
    },
    {
      "cell_type": "code",
      "metadata": {
        "id": "FRM55nC8PUu2",
        "colab_type": "code",
        "colab": {
          "base_uri": "https://localhost:8080/",
          "height": 34
        },
        "outputId": "099d385a-7a81-4c05-c95f-72bc25a19640"
      },
      "source": [
        "test_loss, test_acc = model.evaluate(X_test,y_test)"
      ],
      "execution_count": 43,
      "outputs": [
        {
          "output_type": "stream",
          "text": [
            "200/200 [==============================] - 0s 231us/step\n"
          ],
          "name": "stdout"
        }
      ]
    },
    {
      "cell_type": "code",
      "metadata": {
        "id": "mjeO6QxtPg7v",
        "colab_type": "code",
        "colab": {
          "base_uri": "https://localhost:8080/",
          "height": 34
        },
        "outputId": "c67b2f2d-4fd8-4d1f-a88e-b893c8ce068d"
      },
      "source": [
        "print('test_acc: ',test_acc)\n"
      ],
      "execution_count": 44,
      "outputs": [
        {
          "output_type": "stream",
          "text": [
            "test_acc:  0.605\n"
          ],
          "name": "stdout"
        }
      ]
    },
    {
      "cell_type": "code",
      "metadata": {
        "id": "toOdra3qPzvD",
        "colab_type": "code",
        "colab": {}
      },
      "source": [
        ""
      ],
      "execution_count": 0,
      "outputs": []
    },
    {
      "cell_type": "markdown",
      "metadata": {
        "id": "TYskYqvZQiTH",
        "colab_type": "text"
      },
      "source": [
        "**Validating on training data to see if its overfitting**\n",
        "\n",
        "Let's set apart 200 samples in our training data to use as a validation set:"
      ]
    },
    {
      "cell_type": "code",
      "metadata": {
        "id": "uPWuFw16QqAy",
        "colab_type": "code",
        "colab": {}
      },
      "source": [
        "x_val = X_train[:200]\n",
        "partial_x_train = X_train[200:]\n",
        "\n",
        "y_val = y_train[:200]\n",
        "partial_y_train = y_train[200:]\n"
      ],
      "execution_count": 0,
      "outputs": []
    },
    {
      "cell_type": "code",
      "metadata": {
        "id": "MHMSbNznQ7UH",
        "colab_type": "code",
        "colab": {
          "base_uri": "https://localhost:8080/",
          "height": 1241
        },
        "outputId": "14b792a6-988a-4524-bc88-bc7585f7476f"
      },
      "source": [
        "model = models.Sequential()\n",
        "model.add(layers.Dense(512, activation='relu', input_shape=(X_train.shape[1],)))\n",
        "model.add(layers.Dense(256, activation='relu'))\n",
        "model.add(layers.Dense(128, activation='relu'))\n",
        "model.add(layers.Dense(64, activation='relu'))\n",
        "model.add(layers.Dense(10, activation='softmax'))\n",
        "\n",
        "model.compile(optimizer='adam',\n",
        "              loss='sparse_categorical_crossentropy',\n",
        "              metrics=['accuracy'])\n",
        "\n",
        "model.fit(partial_x_train,\n",
        "          partial_y_train,\n",
        "          epochs=35,\n",
        "          batch_size=512,\n",
        "          validation_data=(x_val, y_val))\n",
        "results = model.evaluate(X_test, y_test)"
      ],
      "execution_count": 46,
      "outputs": [
        {
          "output_type": "stream",
          "text": [
            "Train on 600 samples, validate on 200 samples\n",
            "Epoch 1/35\n",
            "600/600 [==============================] - 0s 583us/step - loss: 2.3001 - acc: 0.0800 - val_loss: 2.1562 - val_acc: 0.3450\n",
            "Epoch 2/35\n",
            "600/600 [==============================] - 0s 66us/step - loss: 2.1616 - acc: 0.2767 - val_loss: 2.0370 - val_acc: 0.3500\n",
            "Epoch 3/35\n",
            "600/600 [==============================] - 0s 61us/step - loss: 2.0299 - acc: 0.3200 - val_loss: 1.8995 - val_acc: 0.4200\n",
            "Epoch 4/35\n",
            "600/600 [==============================] - 0s 60us/step - loss: 1.8837 - acc: 0.3850 - val_loss: 1.7779 - val_acc: 0.4200\n",
            "Epoch 5/35\n",
            "600/600 [==============================] - 0s 65us/step - loss: 1.7528 - acc: 0.3950 - val_loss: 1.6900 - val_acc: 0.4100\n",
            "Epoch 6/35\n",
            "600/600 [==============================] - 0s 63us/step - loss: 1.6341 - acc: 0.4183 - val_loss: 1.6175 - val_acc: 0.4550\n",
            "Epoch 7/35\n",
            "600/600 [==============================] - 0s 72us/step - loss: 1.5225 - acc: 0.4767 - val_loss: 1.5517 - val_acc: 0.4650\n",
            "Epoch 8/35\n",
            "600/600 [==============================] - 0s 68us/step - loss: 1.4165 - acc: 0.5450 - val_loss: 1.4906 - val_acc: 0.4950\n",
            "Epoch 9/35\n",
            "600/600 [==============================] - 0s 55us/step - loss: 1.3254 - acc: 0.5633 - val_loss: 1.4102 - val_acc: 0.5200\n",
            "Epoch 10/35\n",
            "600/600 [==============================] - 0s 53us/step - loss: 1.2427 - acc: 0.5667 - val_loss: 1.3496 - val_acc: 0.5350\n",
            "Epoch 11/35\n",
            "600/600 [==============================] - 0s 54us/step - loss: 1.1722 - acc: 0.5867 - val_loss: 1.3222 - val_acc: 0.5400\n",
            "Epoch 12/35\n",
            "600/600 [==============================] - 0s 72us/step - loss: 1.1119 - acc: 0.6267 - val_loss: 1.2973 - val_acc: 0.5300\n",
            "Epoch 13/35\n",
            "600/600 [==============================] - 0s 69us/step - loss: 1.0685 - acc: 0.6267 - val_loss: 1.2422 - val_acc: 0.5750\n",
            "Epoch 14/35\n",
            "600/600 [==============================] - 0s 64us/step - loss: 1.0182 - acc: 0.6433 - val_loss: 1.1810 - val_acc: 0.5900\n",
            "Epoch 15/35\n",
            "600/600 [==============================] - 0s 64us/step - loss: 0.9552 - acc: 0.6667 - val_loss: 1.1891 - val_acc: 0.5800\n",
            "Epoch 16/35\n",
            "600/600 [==============================] - 0s 70us/step - loss: 0.9150 - acc: 0.6833 - val_loss: 1.2386 - val_acc: 0.5650\n",
            "Epoch 17/35\n",
            "600/600 [==============================] - 0s 60us/step - loss: 0.8909 - acc: 0.6933 - val_loss: 1.2201 - val_acc: 0.6000\n",
            "Epoch 18/35\n",
            "600/600 [==============================] - 0s 56us/step - loss: 0.8431 - acc: 0.7067 - val_loss: 1.1725 - val_acc: 0.6000\n",
            "Epoch 19/35\n",
            "600/600 [==============================] - 0s 62us/step - loss: 0.8172 - acc: 0.7200 - val_loss: 1.1317 - val_acc: 0.6000\n",
            "Epoch 20/35\n",
            "600/600 [==============================] - 0s 60us/step - loss: 0.7742 - acc: 0.7450 - val_loss: 1.1293 - val_acc: 0.6200\n",
            "Epoch 21/35\n",
            "600/600 [==============================] - 0s 60us/step - loss: 0.7414 - acc: 0.7500 - val_loss: 1.1710 - val_acc: 0.5850\n",
            "Epoch 22/35\n",
            "600/600 [==============================] - 0s 60us/step - loss: 0.7143 - acc: 0.7483 - val_loss: 1.1747 - val_acc: 0.6000\n",
            "Epoch 23/35\n",
            "600/600 [==============================] - 0s 69us/step - loss: 0.6933 - acc: 0.7633 - val_loss: 1.0916 - val_acc: 0.6250\n",
            "Epoch 24/35\n",
            "600/600 [==============================] - 0s 67us/step - loss: 0.6558 - acc: 0.7983 - val_loss: 1.0828 - val_acc: 0.6550\n",
            "Epoch 25/35\n",
            "600/600 [==============================] - 0s 68us/step - loss: 0.6358 - acc: 0.8233 - val_loss: 1.1096 - val_acc: 0.6300\n",
            "Epoch 26/35\n",
            "600/600 [==============================] - 0s 73us/step - loss: 0.5980 - acc: 0.8100 - val_loss: 1.1387 - val_acc: 0.6200\n",
            "Epoch 27/35\n",
            "600/600 [==============================] - 0s 65us/step - loss: 0.5713 - acc: 0.8183 - val_loss: 1.1185 - val_acc: 0.6000\n",
            "Epoch 28/35\n",
            "600/600 [==============================] - 0s 68us/step - loss: 0.5443 - acc: 0.8250 - val_loss: 1.1274 - val_acc: 0.6150\n",
            "Epoch 29/35\n",
            "600/600 [==============================] - 0s 64us/step - loss: 0.5305 - acc: 0.8250 - val_loss: 1.1402 - val_acc: 0.6050\n",
            "Epoch 30/35\n",
            "600/600 [==============================] - 0s 65us/step - loss: 0.5066 - acc: 0.8400 - val_loss: 1.1044 - val_acc: 0.6200\n",
            "Epoch 31/35\n",
            "600/600 [==============================] - 0s 68us/step - loss: 0.4792 - acc: 0.8550 - val_loss: 1.0939 - val_acc: 0.6450\n",
            "Epoch 32/35\n",
            "600/600 [==============================] - 0s 64us/step - loss: 0.4646 - acc: 0.8517 - val_loss: 1.1200 - val_acc: 0.6200\n",
            "Epoch 33/35\n",
            "600/600 [==============================] - 0s 58us/step - loss: 0.4449 - acc: 0.8717 - val_loss: 1.1525 - val_acc: 0.6200\n",
            "Epoch 34/35\n",
            "600/600 [==============================] - 0s 66us/step - loss: 0.4336 - acc: 0.8617 - val_loss: 1.1197 - val_acc: 0.6400\n",
            "Epoch 35/35\n",
            "600/600 [==============================] - 0s 67us/step - loss: 0.4004 - acc: 0.8883 - val_loss: 1.1124 - val_acc: 0.6350\n",
            "200/200 [==============================] - 0s 63us/step\n"
          ],
          "name": "stdout"
        }
      ]
    },
    {
      "cell_type": "code",
      "metadata": {
        "id": "RL7g1vgRRD4l",
        "colab_type": "code",
        "colab": {
          "base_uri": "https://localhost:8080/",
          "height": 34
        },
        "outputId": "1e4f316d-d028-49fd-a61d-3d465f21c674"
      },
      "source": [
        "results"
      ],
      "execution_count": 47,
      "outputs": [
        {
          "output_type": "execute_result",
          "data": {
            "text/plain": [
              "[1.2059508991241454, 0.615]"
            ]
          },
          "metadata": {
            "tags": []
          },
          "execution_count": 47
        }
      ]
    },
    {
      "cell_type": "code",
      "metadata": {
        "id": "aBZ2l-zYROK3",
        "colab_type": "code",
        "colab": {}
      },
      "source": [
        ""
      ],
      "execution_count": 0,
      "outputs": []
    },
    {
      "cell_type": "markdown",
      "metadata": {
        "id": "EmaSgxhrRaC3",
        "colab_type": "text"
      },
      "source": [
        "**Predictions on Test Data**"
      ]
    },
    {
      "cell_type": "code",
      "metadata": {
        "id": "xujO14EoRdW9",
        "colab_type": "code",
        "colab": {}
      },
      "source": [
        "predictions = model.predict(X_test)"
      ],
      "execution_count": 0,
      "outputs": []
    },
    {
      "cell_type": "code",
      "metadata": {
        "id": "Z01_oIw3RgN0",
        "colab_type": "code",
        "colab": {
          "base_uri": "https://localhost:8080/",
          "height": 34
        },
        "outputId": "0d608584-1720-4fbd-9740-84e467262353"
      },
      "source": [
        "predictions[0].shape"
      ],
      "execution_count": 49,
      "outputs": [
        {
          "output_type": "execute_result",
          "data": {
            "text/plain": [
              "(10,)"
            ]
          },
          "metadata": {
            "tags": []
          },
          "execution_count": 49
        }
      ]
    },
    {
      "cell_type": "code",
      "metadata": {
        "id": "7FtiodOiRjnQ",
        "colab_type": "code",
        "colab": {
          "base_uri": "https://localhost:8080/",
          "height": 238
        },
        "outputId": "5749d173-09e9-4433-9ce2-3317ab91eba4"
      },
      "source": [
        "predictions"
      ],
      "execution_count": 50,
      "outputs": [
        {
          "output_type": "execute_result",
          "data": {
            "text/plain": [
              "array([[3.4304458e-06, 5.3434178e-08, 1.2146849e-03, ..., 9.9588341e-01,\n",
              "        1.9556477e-04, 3.6123014e-04],\n",
              "       [8.0433828e-01, 4.4041825e-04, 3.4245164e-03, ..., 1.8555127e-04,\n",
              "        1.0812747e-03, 1.0502500e-04],\n",
              "       [3.8549680e-02, 7.4440140e-07, 7.5844279e-04, ..., 1.4492992e-06,\n",
              "        4.2090024e-04, 5.2166224e-01],\n",
              "       ...,\n",
              "       [3.4428303e-04, 9.7017015e-05, 2.1349373e-01, ..., 4.8384988e-01,\n",
              "        1.5707662e-02, 1.3348323e-01],\n",
              "       [4.7110502e-06, 1.3855490e-07, 5.4178997e-03, ..., 9.9132746e-01,\n",
              "        4.2233733e-04, 4.7626684e-04],\n",
              "       [1.3012140e-03, 6.8534875e-01, 4.0170904e-03, ..., 3.7819216e-05,\n",
              "        2.7484325e-04, 1.1298406e-05]], dtype=float32)"
            ]
          },
          "metadata": {
            "tags": []
          },
          "execution_count": 50
        }
      ]
    },
    {
      "cell_type": "code",
      "metadata": {
        "id": "0KA9pDpCSE1o",
        "colab_type": "code",
        "colab": {
          "base_uri": "https://localhost:8080/",
          "height": 34
        },
        "outputId": "4d25fe6a-af14-4d1f-dba8-7774086efecd"
      },
      "source": [
        "np.sum(predictions[0])"
      ],
      "execution_count": 53,
      "outputs": [
        {
          "output_type": "execute_result",
          "data": {
            "text/plain": [
              "1.0"
            ]
          },
          "metadata": {
            "tags": []
          },
          "execution_count": 53
        }
      ]
    },
    {
      "cell_type": "code",
      "metadata": {
        "id": "R1_sebwiSeMf",
        "colab_type": "code",
        "colab": {
          "base_uri": "https://localhost:8080/",
          "height": 68
        },
        "outputId": "c60a6d74-3d03-4275-e631-a979277e760c"
      },
      "source": [
        "predictions[0]"
      ],
      "execution_count": 55,
      "outputs": [
        {
          "output_type": "execute_result",
          "data": {
            "text/plain": [
              "array([3.4304458e-06, 5.3434178e-08, 1.2146849e-03, 1.3558208e-03,\n",
              "       6.9763727e-04, 2.8559228e-04, 2.6026469e-06, 9.9588341e-01,\n",
              "       1.9556477e-04, 3.6123014e-04], dtype=float32)"
            ]
          },
          "metadata": {
            "tags": []
          },
          "execution_count": 55
        }
      ]
    },
    {
      "cell_type": "code",
      "metadata": {
        "id": "yGyTy8iOSopm",
        "colab_type": "code",
        "colab": {
          "base_uri": "https://localhost:8080/",
          "height": 34
        },
        "outputId": "7f5671d7-f822-4869-f353-625dcaaa3e39"
      },
      "source": [
        "encoder.inverse_transform(model.predict_classes(np.array([X_test[0],])))"
      ],
      "execution_count": 57,
      "outputs": [
        {
          "output_type": "execute_result",
          "data": {
            "text/plain": [
              "array(['Pop'], dtype=object)"
            ]
          },
          "metadata": {
            "tags": []
          },
          "execution_count": 57
        }
      ]
    },
    {
      "cell_type": "code",
      "metadata": {
        "id": "ea7RvJoySx6F",
        "colab_type": "code",
        "colab": {
          "base_uri": "https://localhost:8080/",
          "height": 119
        },
        "outputId": "d6ead028-51cd-4f7e-b115-9e5654c04a05"
      },
      "source": [
        "np.array([X_test[0],])\n"
      ],
      "execution_count": 58,
      "outputs": [
        {
          "output_type": "execute_result",
          "data": {
            "text/plain": [
              "array([[ 0.64590752,  1.58570534,  1.82917135,  1.72253825,  1.70613123,\n",
              "         1.63575813,  1.01631114, -1.42613255,  1.19855734, -0.99201066,\n",
              "         0.65503078, -1.00154146,  1.70563751, -0.8524481 ,  1.80364103,\n",
              "        -0.83088466,  0.28559021, -0.64618792,  0.0907494 , -1.24582211,\n",
              "         0.2786972 , -0.88269719,  1.00878906,  0.101571  ,  1.23561907,\n",
              "         0.78768795]])"
            ]
          },
          "metadata": {
            "tags": []
          },
          "execution_count": 58
        }
      ]
    },
    {
      "cell_type": "code",
      "metadata": {
        "id": "0s0MRp7kU54A",
        "colab_type": "code",
        "colab": {}
      },
      "source": [
        "model.save('music_classifier.h5')"
      ],
      "execution_count": 0,
      "outputs": []
    },
    {
      "cell_type": "code",
      "metadata": {
        "id": "fjRn-Dn7VC7H",
        "colab_type": "code",
        "colab": {}
      },
      "source": [
        ""
      ],
      "execution_count": 0,
      "outputs": []
    }
  ]
}